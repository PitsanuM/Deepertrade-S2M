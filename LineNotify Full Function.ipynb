{
 "cells": [
  {
   "cell_type": "code",
   "execution_count": 1,
   "metadata": {},
   "outputs": [],
   "source": [
    "import requests"
   ]
  },
  {
   "cell_type": "code",
   "execution_count": 2,
   "metadata": {},
   "outputs": [],
   "source": [
    "line_token = 'xxxxxx' #<<<<<<<<ใส่ Token ที่ได้จากการ Generate ผ่าน Line Notify"
   ]
  },
  {
   "cell_type": "code",
   "execution_count": 3,
   "metadata": {},
   "outputs": [],
   "source": [
    "def lineNotify(message='', image_file=None, image_url=None, stickerID=None, stickerPackageID=None):\n",
    "    payload = { 'message': message }\n",
    "    \n",
    "    if image_file is not None:\n",
    "        image_file = {'imageFile':open(image_file,'rb')}\n",
    "        \n",
    "    if image_url is not None:\n",
    "        payload['imageThumbnail'] = image_url\n",
    "        payload['imageFullsize'] = image_url\n",
    "    \n",
    "    \n",
    "    if (stickerID is not None) and (stickerPackageID is not None):\n",
    "        payload['stickerId'] = stickerID\n",
    "        payload['stickerPackageId'] = stickerPackageID\n",
    "\n",
    "    print(payload)\n",
    "    \n",
    "    url = 'https://notify-api.line.me/api/notify'\n",
    "    headers = {'Authorization':'Bearer '+ line_token}\n",
    "    \n",
    "    return requests.post(url, headers=headers , data=payload, files=image_file)"
   ]
  },
  {
   "cell_type": "code",
   "execution_count": 4,
   "metadata": {},
   "outputs": [
    {
     "name": "stdout",
     "output_type": "stream",
     "text": [
      "{'message': 'Hello'}\n"
     ]
    },
    {
     "data": {
      "text/plain": [
       "<Response [200]>"
      ]
     },
     "execution_count": 4,
     "metadata": {},
     "output_type": "execute_result"
    }
   ],
   "source": [
    "#ส่งข้อความอย่างเดียว\n",
    "lineNotify(message='Hello')"
   ]
  },
  {
   "cell_type": "code",
   "execution_count": 5,
   "metadata": {},
   "outputs": [
    {
     "name": "stdout",
     "output_type": "stream",
     "text": [
      "{'message': 'Hello'}\n"
     ]
    },
    {
     "data": {
      "text/plain": [
       "<Response [200]>"
      ]
     },
     "execution_count": 5,
     "metadata": {},
     "output_type": "execute_result"
    }
   ],
   "source": [
    "#ส่งข้อความ และไฟล์รูป\n",
    "lineNotify(message='Hello', image_file='Mothers1LN-jumbo.png')"
   ]
  },
  {
   "cell_type": "code",
   "execution_count": 6,
   "metadata": {},
   "outputs": [
    {
     "name": "stdout",
     "output_type": "stream",
     "text": [
      "{'message': 'Hello', 'imageThumbnail': 'https://www.stock2morrow.com/course/twe_assets/img/logo_s2m_head.png', 'imageFullsize': 'https://www.stock2morrow.com/course/twe_assets/img/logo_s2m_head.png'}\n"
     ]
    },
    {
     "data": {
      "text/plain": [
       "<Response [200]>"
      ]
     },
     "execution_count": 6,
     "metadata": {},
     "output_type": "execute_result"
    }
   ],
   "source": [
    "#ส่งข้อความ และลิงค์รูป\n",
    "lineNotify(message='Hello', image_url='https://www.stock2morrow.com/course/twe_assets/img/logo_s2m_head.png')"
   ]
  },
  {
   "cell_type": "code",
   "execution_count": 7,
   "metadata": {},
   "outputs": [
    {
     "name": "stdout",
     "output_type": "stream",
     "text": [
      "{'message': 'Hello', 'stickerId': 502, 'stickerPackageId': 2}\n"
     ]
    },
    {
     "data": {
      "text/plain": [
       "<Response [200]>"
      ]
     },
     "execution_count": 7,
     "metadata": {},
     "output_type": "execute_result"
    }
   ],
   "source": [
    "#ส่งข้อความ และสติกเกอร์ (รูปสติกเกอร์ดูได้จาก https://devdocs.line.me/files/sticker_list.pdf)\n",
    "lineNotify(message='Hello', stickerID=502, stickerPackageID=2)"
   ]
  }
 ],
 "metadata": {
  "kernelspec": {
   "display_name": "Python 3 (ipykernel)",
   "language": "python",
   "name": "python3"
  },
  "language_info": {
   "codemirror_mode": {
    "name": "ipython",
    "version": 3
   },
   "file_extension": ".py",
   "mimetype": "text/x-python",
   "name": "python",
   "nbconvert_exporter": "python",
   "pygments_lexer": "ipython3",
   "version": "3.9.7"
  }
 },
 "nbformat": 4,
 "nbformat_minor": 4
}
