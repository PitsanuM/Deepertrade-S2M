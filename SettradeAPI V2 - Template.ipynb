{
 "cells": [
  {
   "cell_type": "code",
   "execution_count": 2,
   "metadata": {},
   "outputs": [
    {
     "name": "stdout",
     "output_type": "stream",
     "text": [
      "Requirement already satisfied: settrade in c:\\users\\pitsanu mukdaprakorn\\anaconda3\\lib\\site-packages (0.5.0)\n",
      "Requirement already satisfied: numpy in c:\\users\\pitsanu mukdaprakorn\\anaconda3\\lib\\site-packages (from settrade) (1.20.3)\n"
     ]
    }
   ],
   "source": [
    "!pip install settrade"
   ]
  },
  {
   "cell_type": "code",
   "execution_count": 3,
   "metadata": {},
   "outputs": [],
   "source": [
    "api_secret = 'YOUR_APP_SECRET'\n",
    "api_key = 'YOUR_API_KEY'"
   ]
  },
  {
   "cell_type": "code",
   "execution_count": 4,
   "metadata": {},
   "outputs": [],
   "source": [
    "import settrade.openapi\n",
    "from settrade.openapi import Investor"
   ]
  },
  {
   "cell_type": "code",
   "execution_count": 5,
   "metadata": {},
   "outputs": [],
   "source": [
    "user = Investor(\n",
    "    app_id=api_key,\n",
    "    app_secret=api_secret, \n",
    "    broker_id=\"SANDBOX\",                                           \n",
    "    app_code=\"SANDBOX\",\n",
    "    is_auto_queue = False)\n",
    "\n",
    "derivatives_account = user.Derivatives(account_no=\"YOU_ACCOUNT\")"
   ]
  },
  {
   "cell_type": "code",
   "execution_count": 6,
   "metadata": {},
   "outputs": [
    {
     "data": {
      "text/plain": [
       "{'success': True,\n",
       " 'status_code': 200,\n",
       " 'data': {'call_force_flag': 'No',\n",
       "  'call_force_margin': 0.0,\n",
       "  'cash_balance': 100000000.0,\n",
       "  'credit_line': 99658400.0,\n",
       "  'equity': 100000000.0,\n",
       "  'excess_equity': 99658400.0,\n",
       "  'total_mm': 341600.0,\n",
       "  'total_mr': 341600.0},\n",
       " 'message': ''}"
      ]
     },
     "execution_count": 6,
     "metadata": {},
     "output_type": "execute_result"
    }
   ],
   "source": [
    "derivatives_account.get_account_info()"
   ]
  },
  {
   "cell_type": "code",
   "execution_count": 11,
   "metadata": {},
   "outputs": [
    {
     "data": {
      "text/plain": [
       "{'success': True,\n",
       " 'status_code': 200,\n",
       " 'data': {'account_no': 'Merionm-D',\n",
       "  'balance_qty': 10,\n",
       "  'cancel_qty': 0,\n",
       "  'entry_date': '08/05/22',\n",
       "  'entry_id': '',\n",
       "  'entry_time': '13:38:33',\n",
       "  'is_stop_order_not_activate': 'N',\n",
       "  'match_qty': 0,\n",
       "  'order_no': 75313,\n",
       "  'position': 'Open',\n",
       "  'price': 1000.0,\n",
       "  'price_type': 'Limit',\n",
       "  'qty': 10,\n",
       "  'reject_code': 0,\n",
       "  'reject_reason': '',\n",
       "  'show_status': 'Pending(OF)',\n",
       "  'side': 'Long',\n",
       "  'status': 'OF',\n",
       "  'status_meaning': 'Offline order',\n",
       "  'symbol': 'S50H23',\n",
       "  'tfx_order_no': '',\n",
       "  'trigger_condition': '',\n",
       "  'trigger_price': 0.0,\n",
       "  'trigger_symbol': '',\n",
       "  'validity': 'Day',\n",
       "  'version': 0},\n",
       " 'message': ''}"
      ]
     },
     "execution_count": 11,
     "metadata": {},
     "output_type": "execute_result"
    }
   ],
   "source": [
    "derivatives_account.get_order(75313)"
   ]
  },
  {
   "cell_type": "code",
   "execution_count": 13,
   "metadata": {},
   "outputs": [
    {
     "data": {
      "text/plain": [
       "{'success': True,\n",
       " 'status_code': 200,\n",
       " 'data': {'order_no': 75314},\n",
       " 'message': ''}"
      ]
     },
     "execution_count": 13,
     "metadata": {},
     "output_type": "execute_result"
    }
   ],
   "source": [
    "derivatives_account.place_order(\n",
    "    symbol=\"S50Z22\",\n",
    "    price=1000,\n",
    "    volume=10,\n",
    "    side=\"LONG\",\n",
    "    position=\"OPEN\",\n",
    "    price_type=\"LIMIT\",\n",
    "    pin=\"000000\")"
   ]
  },
  {
   "cell_type": "code",
   "execution_count": 14,
   "metadata": {},
   "outputs": [],
   "source": [
    "equity_account = user.Equity(account_no=\"YOU_ACCOUNT\")"
   ]
  },
  {
   "cell_type": "code",
   "execution_count": 15,
   "metadata": {},
   "outputs": [
    {
     "data": {
      "text/plain": [
       "{'success': True,\n",
       " 'status_code': 200,\n",
       " 'data': {'account_type': 'CASH_ACCOUNT',\n",
       "  'additional_data': 0.0,\n",
       "  'can_buy': True,\n",
       "  'can_sell': True,\n",
       "  'cash_balance': 10000000.0,\n",
       "  'client_type': 'INDIVIDUAL',\n",
       "  'credit_balance': False,\n",
       "  'credit_limit': 10000000.0,\n",
       "  'customer_type': 'CUSTOMER',\n",
       "  'initial_cash_balance': 10000000.0,\n",
       "  'initial_credit_limit': 10000000.0,\n",
       "  'initial_line_available': 10000000.0,\n",
       "  'line_available': 10000000.0,\n",
       "  'net_settlement_line': 0.0},\n",
       " 'message': ''}"
      ]
     },
     "execution_count": 15,
     "metadata": {},
     "output_type": "execute_result"
    }
   ],
   "source": [
    "equity_account.get_account_info()"
   ]
  },
  {
   "cell_type": "code",
   "execution_count": 23,
   "metadata": {},
   "outputs": [
    {
     "data": {
      "text/plain": [
       "{'success': True,\n",
       " 'status_code': 200,\n",
       " 'data': {'order_no': '1C978ROBNT'},\n",
       " 'message': ''}"
      ]
     },
     "execution_count": 23,
     "metadata": {},
     "output_type": "execute_result"
    }
   ],
   "source": [
    "equity_account.place_order(\n",
    "    symbol=\"BANPU\",\n",
    "    price=13,\n",
    "    volume=10,\n",
    "    side=\"BUY\",\n",
    "    price_type=\"LIMIT\",\n",
    "    pin=\"000000\")"
   ]
  },
  {
   "cell_type": "code",
   "execution_count": 24,
   "metadata": {},
   "outputs": [
    {
     "data": {
      "text/plain": [
       "{'success': True,\n",
       " 'status_code': 200,\n",
       " 'data': {'can_cancel': True,\n",
       "  'can_change_account': True,\n",
       "  'account_no': 'Merionm-E',\n",
       "  'balance': 10,\n",
       "  'cancel_id': '',\n",
       "  'cancel_time': '',\n",
       "  'cancelled': 0,\n",
       "  'counter_party_member': '',\n",
       "  'enter_id': '',\n",
       "  'entry_time': '2022-05-08T13:43:20+0700',\n",
       "  'iceberg_vol': 0,\n",
       "  'matched': 0,\n",
       "  'nvdr_flag': ' ',\n",
       "  'order_no': '1C978ROBNT',\n",
       "  'order_type': 'Normal',\n",
       "  'price': 13.0,\n",
       "  'price_type': 'LIMIT',\n",
       "  'reject_code': 0,\n",
       "  'reject_reason': '',\n",
       "  'set_order_no': '',\n",
       "  'show_order_status': 'Pending(OF)',\n",
       "  'show_order_status_meaning': 'Offline order',\n",
       "  'side': 'BUY',\n",
       "  'status': 'OF',\n",
       "  'symbol': 'BANPU',\n",
       "  'trade_date': '2022-05-09',\n",
       "  'trade_report_type': '',\n",
       "  'trade_time': '',\n",
       "  'validity': 'DAY',\n",
       "  'version': 0,\n",
       "  'vol': 10,\n",
       "  'can_change_price_vol': True,\n",
       "  'can_change_trustee_id': True,\n",
       "  'trade_report': False},\n",
       " 'message': ''}"
      ]
     },
     "execution_count": 24,
     "metadata": {},
     "output_type": "execute_result"
    }
   ],
   "source": [
    "equity_account.get_order('1C978ROBNT')"
   ]
  },
  {
   "cell_type": "code",
   "execution_count": 25,
   "metadata": {},
   "outputs": [],
   "source": [
    "market = user.MarketData()"
   ]
  },
  {
   "cell_type": "code",
   "execution_count": 42,
   "metadata": {},
   "outputs": [],
   "source": [
    "response = market.get_candlestick(\"DTAC\",\"1M\",1000,\"2000-01-01T00:00:00\",\n",
    "                                  \"2022-12-31T00:00:00\",True)"
   ]
  },
  {
   "cell_type": "code",
   "execution_count": 28,
   "metadata": {},
   "outputs": [],
   "source": [
    "import pandas as pd"
   ]
  },
  {
   "cell_type": "code",
   "execution_count": 43,
   "metadata": {},
   "outputs": [
    {
     "data": {
      "text/html": [
       "<div>\n",
       "<style scoped>\n",
       "    .dataframe tbody tr th:only-of-type {\n",
       "        vertical-align: middle;\n",
       "    }\n",
       "\n",
       "    .dataframe tbody tr th {\n",
       "        vertical-align: top;\n",
       "    }\n",
       "\n",
       "    .dataframe thead th {\n",
       "        text-align: right;\n",
       "    }\n",
       "</style>\n",
       "<table border=\"1\" class=\"dataframe\">\n",
       "  <thead>\n",
       "    <tr style=\"text-align: right;\">\n",
       "      <th></th>\n",
       "      <th>last_sequence</th>\n",
       "      <th>time</th>\n",
       "      <th>open</th>\n",
       "      <th>high</th>\n",
       "      <th>low</th>\n",
       "      <th>close</th>\n",
       "      <th>volume</th>\n",
       "    </tr>\n",
       "  </thead>\n",
       "  <tbody>\n",
       "    <tr>\n",
       "      <th>0</th>\n",
       "      <td>0</td>\n",
       "      <td>1180630800</td>\n",
       "      <td>41.00</td>\n",
       "      <td>49.50</td>\n",
       "      <td>40.75</td>\n",
       "      <td>45.50</td>\n",
       "      <td>131841078</td>\n",
       "    </tr>\n",
       "    <tr>\n",
       "      <th>1</th>\n",
       "      <td>0</td>\n",
       "      <td>1183222800</td>\n",
       "      <td>38.25</td>\n",
       "      <td>46.50</td>\n",
       "      <td>34.50</td>\n",
       "      <td>44.00</td>\n",
       "      <td>515756987</td>\n",
       "    </tr>\n",
       "    <tr>\n",
       "      <th>2</th>\n",
       "      <td>0</td>\n",
       "      <td>1185901200</td>\n",
       "      <td>46.00</td>\n",
       "      <td>48.75</td>\n",
       "      <td>44.00</td>\n",
       "      <td>46.25</td>\n",
       "      <td>222592053</td>\n",
       "    </tr>\n",
       "    <tr>\n",
       "      <th>3</th>\n",
       "      <td>0</td>\n",
       "      <td>1188579600</td>\n",
       "      <td>36.25</td>\n",
       "      <td>40.00</td>\n",
       "      <td>36.25</td>\n",
       "      <td>39.25</td>\n",
       "      <td>25439876</td>\n",
       "    </tr>\n",
       "    <tr>\n",
       "      <th>4</th>\n",
       "      <td>0</td>\n",
       "      <td>1191171600</td>\n",
       "      <td>37.75</td>\n",
       "      <td>37.75</td>\n",
       "      <td>32.75</td>\n",
       "      <td>37.00</td>\n",
       "      <td>426116507</td>\n",
       "    </tr>\n",
       "  </tbody>\n",
       "</table>\n",
       "</div>"
      ],
      "text/plain": [
       "   last_sequence        time   open   high    low  close     volume\n",
       "0              0  1180630800  41.00  49.50  40.75  45.50  131841078\n",
       "1              0  1183222800  38.25  46.50  34.50  44.00  515756987\n",
       "2              0  1185901200  46.00  48.75  44.00  46.25  222592053\n",
       "3              0  1188579600  36.25  40.00  36.25  39.25   25439876\n",
       "4              0  1191171600  37.75  37.75  32.75  37.00  426116507"
      ]
     },
     "execution_count": 43,
     "metadata": {},
     "output_type": "execute_result"
    }
   ],
   "source": [
    "df = pd.DataFrame(response['data'])\n",
    "df.head()"
   ]
  },
  {
   "cell_type": "code",
   "execution_count": 44,
   "metadata": {},
   "outputs": [
    {
     "data": {
      "text/html": [
       "<div>\n",
       "<style scoped>\n",
       "    .dataframe tbody tr th:only-of-type {\n",
       "        vertical-align: middle;\n",
       "    }\n",
       "\n",
       "    .dataframe tbody tr th {\n",
       "        vertical-align: top;\n",
       "    }\n",
       "\n",
       "    .dataframe thead th {\n",
       "        text-align: right;\n",
       "    }\n",
       "</style>\n",
       "<table border=\"1\" class=\"dataframe\">\n",
       "  <thead>\n",
       "    <tr style=\"text-align: right;\">\n",
       "      <th></th>\n",
       "      <th>time</th>\n",
       "      <th>open</th>\n",
       "      <th>high</th>\n",
       "      <th>low</th>\n",
       "      <th>close</th>\n",
       "      <th>volume</th>\n",
       "    </tr>\n",
       "  </thead>\n",
       "  <tbody>\n",
       "    <tr>\n",
       "      <th>0</th>\n",
       "      <td>1180630800</td>\n",
       "      <td>41.00</td>\n",
       "      <td>49.50</td>\n",
       "      <td>40.75</td>\n",
       "      <td>45.50</td>\n",
       "      <td>131841078</td>\n",
       "    </tr>\n",
       "    <tr>\n",
       "      <th>1</th>\n",
       "      <td>1183222800</td>\n",
       "      <td>38.25</td>\n",
       "      <td>46.50</td>\n",
       "      <td>34.50</td>\n",
       "      <td>44.00</td>\n",
       "      <td>515756987</td>\n",
       "    </tr>\n",
       "    <tr>\n",
       "      <th>2</th>\n",
       "      <td>1185901200</td>\n",
       "      <td>46.00</td>\n",
       "      <td>48.75</td>\n",
       "      <td>44.00</td>\n",
       "      <td>46.25</td>\n",
       "      <td>222592053</td>\n",
       "    </tr>\n",
       "    <tr>\n",
       "      <th>3</th>\n",
       "      <td>1188579600</td>\n",
       "      <td>36.25</td>\n",
       "      <td>40.00</td>\n",
       "      <td>36.25</td>\n",
       "      <td>39.25</td>\n",
       "      <td>25439876</td>\n",
       "    </tr>\n",
       "    <tr>\n",
       "      <th>4</th>\n",
       "      <td>1191171600</td>\n",
       "      <td>37.75</td>\n",
       "      <td>37.75</td>\n",
       "      <td>32.75</td>\n",
       "      <td>37.00</td>\n",
       "      <td>426116507</td>\n",
       "    </tr>\n",
       "  </tbody>\n",
       "</table>\n",
       "</div>"
      ],
      "text/plain": [
       "         time   open   high    low  close     volume\n",
       "0  1180630800  41.00  49.50  40.75  45.50  131841078\n",
       "1  1183222800  38.25  46.50  34.50  44.00  515756987\n",
       "2  1185901200  46.00  48.75  44.00  46.25  222592053\n",
       "3  1188579600  36.25  40.00  36.25  39.25   25439876\n",
       "4  1191171600  37.75  37.75  32.75  37.00  426116507"
      ]
     },
     "execution_count": 44,
     "metadata": {},
     "output_type": "execute_result"
    }
   ],
   "source": [
    "df.drop('last_sequence', axis=1, inplace=True)\n",
    "df.head()"
   ]
  },
  {
   "cell_type": "code",
   "execution_count": 45,
   "metadata": {},
   "outputs": [],
   "source": [
    "df['time'] = pd.to_datetime(df['time'], unit='s')"
   ]
  },
  {
   "cell_type": "code",
   "execution_count": 33,
   "metadata": {},
   "outputs": [],
   "source": [
    "from datetime import timedelta"
   ]
  },
  {
   "cell_type": "code",
   "execution_count": 46,
   "metadata": {},
   "outputs": [],
   "source": [
    "df['time'] = df['time'] + timedelta(hours=7)"
   ]
  },
  {
   "cell_type": "code",
   "execution_count": 47,
   "metadata": {},
   "outputs": [
    {
     "data": {
      "text/html": [
       "<div>\n",
       "<style scoped>\n",
       "    .dataframe tbody tr th:only-of-type {\n",
       "        vertical-align: middle;\n",
       "    }\n",
       "\n",
       "    .dataframe tbody tr th {\n",
       "        vertical-align: top;\n",
       "    }\n",
       "\n",
       "    .dataframe thead th {\n",
       "        text-align: right;\n",
       "    }\n",
       "</style>\n",
       "<table border=\"1\" class=\"dataframe\">\n",
       "  <thead>\n",
       "    <tr style=\"text-align: right;\">\n",
       "      <th></th>\n",
       "      <th>time</th>\n",
       "      <th>open</th>\n",
       "      <th>high</th>\n",
       "      <th>low</th>\n",
       "      <th>close</th>\n",
       "      <th>volume</th>\n",
       "    </tr>\n",
       "  </thead>\n",
       "  <tbody>\n",
       "    <tr>\n",
       "      <th>0</th>\n",
       "      <td>2007-06-01</td>\n",
       "      <td>41.00</td>\n",
       "      <td>49.50</td>\n",
       "      <td>40.75</td>\n",
       "      <td>45.50</td>\n",
       "      <td>131841078</td>\n",
       "    </tr>\n",
       "    <tr>\n",
       "      <th>1</th>\n",
       "      <td>2007-07-01</td>\n",
       "      <td>38.25</td>\n",
       "      <td>46.50</td>\n",
       "      <td>34.50</td>\n",
       "      <td>44.00</td>\n",
       "      <td>515756987</td>\n",
       "    </tr>\n",
       "    <tr>\n",
       "      <th>2</th>\n",
       "      <td>2007-08-01</td>\n",
       "      <td>46.00</td>\n",
       "      <td>48.75</td>\n",
       "      <td>44.00</td>\n",
       "      <td>46.25</td>\n",
       "      <td>222592053</td>\n",
       "    </tr>\n",
       "    <tr>\n",
       "      <th>3</th>\n",
       "      <td>2007-09-01</td>\n",
       "      <td>36.25</td>\n",
       "      <td>40.00</td>\n",
       "      <td>36.25</td>\n",
       "      <td>39.25</td>\n",
       "      <td>25439876</td>\n",
       "    </tr>\n",
       "    <tr>\n",
       "      <th>4</th>\n",
       "      <td>2007-10-01</td>\n",
       "      <td>37.75</td>\n",
       "      <td>37.75</td>\n",
       "      <td>32.75</td>\n",
       "      <td>37.00</td>\n",
       "      <td>426116507</td>\n",
       "    </tr>\n",
       "    <tr>\n",
       "      <th>...</th>\n",
       "      <td>...</td>\n",
       "      <td>...</td>\n",
       "      <td>...</td>\n",
       "      <td>...</td>\n",
       "      <td>...</td>\n",
       "      <td>...</td>\n",
       "    </tr>\n",
       "    <tr>\n",
       "      <th>175</th>\n",
       "      <td>2022-01-01</td>\n",
       "      <td>46.25</td>\n",
       "      <td>47.50</td>\n",
       "      <td>44.00</td>\n",
       "      <td>45.75</td>\n",
       "      <td>39747101</td>\n",
       "    </tr>\n",
       "    <tr>\n",
       "      <th>176</th>\n",
       "      <td>2022-02-01</td>\n",
       "      <td>39.50</td>\n",
       "      <td>44.50</td>\n",
       "      <td>38.50</td>\n",
       "      <td>43.25</td>\n",
       "      <td>98141718</td>\n",
       "    </tr>\n",
       "    <tr>\n",
       "      <th>177</th>\n",
       "      <td>2022-03-01</td>\n",
       "      <td>49.00</td>\n",
       "      <td>51.00</td>\n",
       "      <td>45.75</td>\n",
       "      <td>46.00</td>\n",
       "      <td>107784303</td>\n",
       "    </tr>\n",
       "    <tr>\n",
       "      <th>178</th>\n",
       "      <td>2022-04-01</td>\n",
       "      <td>40.25</td>\n",
       "      <td>44.00</td>\n",
       "      <td>39.25</td>\n",
       "      <td>41.00</td>\n",
       "      <td>129653956</td>\n",
       "    </tr>\n",
       "    <tr>\n",
       "      <th>179</th>\n",
       "      <td>2022-05-01</td>\n",
       "      <td>45.00</td>\n",
       "      <td>48.50</td>\n",
       "      <td>37.75</td>\n",
       "      <td>48.50</td>\n",
       "      <td>39303325</td>\n",
       "    </tr>\n",
       "  </tbody>\n",
       "</table>\n",
       "<p>180 rows × 6 columns</p>\n",
       "</div>"
      ],
      "text/plain": [
       "          time   open   high    low  close     volume\n",
       "0   2007-06-01  41.00  49.50  40.75  45.50  131841078\n",
       "1   2007-07-01  38.25  46.50  34.50  44.00  515756987\n",
       "2   2007-08-01  46.00  48.75  44.00  46.25  222592053\n",
       "3   2007-09-01  36.25  40.00  36.25  39.25   25439876\n",
       "4   2007-10-01  37.75  37.75  32.75  37.00  426116507\n",
       "..         ...    ...    ...    ...    ...        ...\n",
       "175 2022-01-01  46.25  47.50  44.00  45.75   39747101\n",
       "176 2022-02-01  39.50  44.50  38.50  43.25   98141718\n",
       "177 2022-03-01  49.00  51.00  45.75  46.00  107784303\n",
       "178 2022-04-01  40.25  44.00  39.25  41.00  129653956\n",
       "179 2022-05-01  45.00  48.50  37.75  48.50   39303325\n",
       "\n",
       "[180 rows x 6 columns]"
      ]
     },
     "execution_count": 47,
     "metadata": {},
     "output_type": "execute_result"
    }
   ],
   "source": [
    "df"
   ]
  },
  {
   "cell_type": "code",
   "execution_count": 165,
   "metadata": {},
   "outputs": [
    {
     "data": {
      "text/plain": [
       "0   2022-05-06\n",
       "Name: time, dtype: datetime64[ns]"
      ]
     },
     "execution_count": 165,
     "metadata": {},
     "output_type": "execute_result"
    }
   ],
   "source": [
    "df['time'] + timedelta(hours=7)"
   ]
  }
 ],
 "metadata": {
  "kernelspec": {
   "display_name": "Python 3 (ipykernel)",
   "language": "python",
   "name": "python3"
  },
  "language_info": {
   "codemirror_mode": {
    "name": "ipython",
    "version": 3
   },
   "file_extension": ".py",
   "mimetype": "text/x-python",
   "name": "python",
   "nbconvert_exporter": "python",
   "pygments_lexer": "ipython3",
   "version": "3.9.7"
  }
 },
 "nbformat": 4,
 "nbformat_minor": 4
}
